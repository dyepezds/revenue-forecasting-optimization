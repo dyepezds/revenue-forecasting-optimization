{
 "cells": [
  {
   "metadata": {
    "ExecuteTime": {
     "end_time": "2025-09-12T20:59:25.489589Z",
     "start_time": "2025-09-12T20:59:25.201706Z"
    }
   },
   "cell_type": "code",
   "source": [
    "from src import etl\n",
    "\n",
    "df_raw = etl.load_raw(\"data/raw/synthetic_sales.csv\")\n",
    "df_feat = etl.save_processed(df_raw)  # or after adding features"
   ],
   "id": "ab120f5db2b13c46",
   "outputs": [],
   "execution_count": 1
  },
  {
   "metadata": {},
   "cell_type": "code",
   "outputs": [],
   "execution_count": null,
   "source": "",
   "id": "9dac10169e55bf9a"
  }
 ],
 "metadata": {
  "kernelspec": {
   "display_name": "Python 3",
   "language": "python",
   "name": "python3"
  },
  "language_info": {
   "codemirror_mode": {
    "name": "ipython",
    "version": 2
   },
   "file_extension": ".py",
   "mimetype": "text/x-python",
   "name": "python",
   "nbconvert_exporter": "python",
   "pygments_lexer": "ipython2",
   "version": "2.7.6"
  }
 },
 "nbformat": 4,
 "nbformat_minor": 5
}
