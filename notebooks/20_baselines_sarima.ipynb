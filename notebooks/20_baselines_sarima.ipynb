{
 "cells": [
  {
   "cell_type": "code",
   "id": "initial_id",
   "metadata": {
    "collapsed": true
   },
   "source": [
    "# --- Cell 1: imports ---\n",
    "from src import etl\n",
    "from src.modeling import fit_sarimax, forecast_sarimax\n",
    "from src.evaluation import rolling_backtest, mape\n",
    "\n",
    "import pandas as pd\n",
    "import numpy as np\n",
    "import matplotlib.pyplot as plt"
   ],
   "outputs": [],
   "execution_count": null
  },
  {
   "metadata": {},
   "cell_type": "code",
   "source": [
    "# --- Cell 2: load processed dataset produced in Step 5 ---\n",
    "df = etl.load_processed(\"data/processed/model_ready.csv\")\n",
    "print(df.shape)\n",
    "df.head()"
   ],
   "id": "db6ed7c0a739a65b",
   "outputs": [],
   "execution_count": null
  },
  {
   "metadata": {},
   "cell_type": "code",
   "source": [
    "# Fix missing calendar features on the fly\n",
    "from src.features import add_calendar_features\n",
    "\n",
    "# If your processed file lacks calendar columns, add them now\n",
    "if not {\"dayofweek\", \"month\", \"is_weekend\"}.issubset(df.columns):\n",
    "    # If simulate.py saved a 'dow' column, map it to 'dayofweek' first\n",
    "    if \"dow\" in df.columns and \"dayofweek\" not in df.columns:\n",
    "        df = df.copy()\n",
    "        df[\"dayofweek\"] = df[\"dow\"]\n",
    "        df[\"is_weekend\"] = (df[\"dayofweek\"] >= 5).astype(int)\n",
    "        df[\"month\"] = df[\"ds\"].dt.month\n",
    "    else:\n",
    "        # Otherwise, compute all calendar features directly\n",
    "        df = add_calendar_features(df)\n",
    "\n",
    "df[[\"ds\",\"y\",\"promo\",\"dayofweek\",\"month\",\"is_weekend\"]].head()"
   ],
   "id": "cbdcbb75122586",
   "outputs": [],
   "execution_count": null
  },
  {
   "metadata": {},
   "cell_type": "code",
   "source": [
    "# --- Cell 3: choose exogenous features ---\n",
    "feature_cols = [\"promo\", \"is_weekend\", \"dayofweek\", \"month\"]\n",
    "target = \"y\"\n",
    "\n",
    "# (Optional) ensure these columns exist\n",
    "missing = [c for c in feature_cols if c not in df.columns]\n",
    "assert not missing, f\"Missing columns: {missing}\"\n",
    "\n",
    "df_model = df.dropna().reset_index(drop=True)  # SARIMAX can't handle NaNs\n",
    "print(df_model[[target] + feature_cols].head())"
   ],
   "id": "462836da2c0cb7e1",
   "outputs": [],
   "execution_count": null
  },
  {
   "metadata": {},
   "cell_type": "code",
   "source": [
    "# --- Cell 4: rolling backtest with SARIMAX ---\n",
    "HORIZON = 14     # forecast 14 days ahead each fold\n",
    "FOLDS   = 6\n",
    "\n",
    "bt_sarimax = rolling_backtest(\n",
    "    df=df_model,\n",
    "    target=target,\n",
    "    feature_cols=feature_cols,\n",
    "    folds=FOLDS,\n",
    "    horizon=HORIZON,\n",
    "    model_fn=lambda y, X, **k: fit_sarimax(y, exog=X, **k),   # <— returns fitted model\n",
    "    model_kwargs={\"order\": (1,1,1), \"seasonal_order\": (1,1,1,7)}\n",
    ")\n",
    "\n",
    "bt_sarimax"
   ],
   "id": "d8012c184747f4e7",
   "outputs": [],
   "execution_count": null
  },
  {
   "metadata": {},
   "cell_type": "code",
   "source": [
    "# --- Cell 5: summarize backtest ---\n",
    "print(\"SARIMAX backtest results:\")\n",
    "display(bt_sarimax)\n",
    "\n",
    "print(\"\\nMAPE mean:\", bt_sarimax[\"MAPE\"].mean().round(3))\n",
    "print(\"MAE  mean:\", bt_sarimax[\"MAE\"].mean().round(3))"
   ],
   "id": "77518855939f17a6",
   "outputs": [],
   "execution_count": null
  },
  {
   "metadata": {},
   "cell_type": "code",
   "source": [
    "# --- Cell 6: seasonal-naive baseline for comparison ---\n",
    "def seasonal_naive_forecast(train_y, horizon, season=7):\n",
    "    last_season = train_y.iloc[-season:].values\n",
    "    reps = int(np.ceil(horizon/season))\n",
    "    return np.tile(last_season, reps)[:horizon]\n",
    "\n",
    "def backtest_seasonal_naive(df, target, horizon=14, folds=6, season=7):\n",
    "    n = len(df)\n",
    "    fold_size = (n - horizon) // folds\n",
    "    rows = []\n",
    "    for i in range(folds):\n",
    "        train_end = (i+1)*fold_size\n",
    "        train = df.iloc[:train_end]\n",
    "        test  = df.iloc[train_end:train_end+horizon]\n",
    "        if len(test) < horizon: break\n",
    "        preds = seasonal_naive_forecast(train[target], horizon=horizon, season=season)\n",
    "        rows.append({\n",
    "            \"fold\": i+1,\n",
    "            \"MAE\": np.mean(np.abs(test[target].values - preds)),\n",
    "            \"MAPE\": mape(test[target].values, preds),\n",
    "        })\n",
    "    return pd.DataFrame(rows)\n",
    "\n",
    "bt_naive = backtest_seasonal_naive(df_model, target=target, horizon=HORIZON, folds=FOLDS, season=7)\n",
    "print(\"Seasonal-naive backtest:\")\n",
    "display(bt_naive)\n",
    "print(\"\\nMAPE mean:\", bt_naive[\"MAPE\"].mean().round(3))"
   ],
   "id": "af69eedec186e4c5",
   "outputs": [],
   "execution_count": null
  },
  {
   "metadata": {},
   "cell_type": "code",
   "source": [
    "# --- Cell 7: fit on full history and forecast next 14 days ---\n",
    "y_all = df_model[target]\n",
    "X_all = df_model[feature_cols]\n",
    "\n",
    "# For the next horizon, build exog by repeating the last known exog pattern (simple demo).\n",
    "# In production you'd create real future exog (e.g., calendar/holiday/promo plan).\n",
    "future_index = pd.date_range(df_model[\"ds\"].iloc[-1] + pd.Timedelta(days=1), periods=HORIZON, freq=\"D\")\n",
    "# naive future exog: copy last row's exog; for calendar vars, recompute.\n",
    "future_exog = pd.DataFrame(index=range(HORIZON))\n",
    "future_exog[\"dayofweek\"]  = future_index.dayofweek\n",
    "future_exog[\"month\"]      = future_index.month\n",
    "future_exog[\"is_weekend\"] = (future_exog[\"dayofweek\"] >= 5).astype(int)\n",
    "future_exog[\"promo\"]      = 0  # set to 1 on dates you want to simulate promotions\n",
    "\n",
    "fitted = fit_sarimax(y_all, exog=X_all, order=(1,1,1), seasonal_order=(1,1,1,7))\n",
    "pred   = forecast_sarimax(fitted, exog_future=future_exog, steps=HORIZON)\n",
    "\n",
    "# Plot actual + forecast\n",
    "plt.figure(figsize=(12,4))\n",
    "plt.plot(df_model[\"ds\"], y_all, label=\"actual\")\n",
    "plt.plot(future_index, pred.values, label=\"forecast\")\n",
    "plt.title(f\"SARIMAX {HORIZON}-day forecast\")\n",
    "plt.legend()\n",
    "plt.tight_layout()\n",
    "plt.show()\n",
    "\n",
    "pd.DataFrame({\"ds\": future_index, \"forecast\": pred.values}).head()"
   ],
   "id": "587c0445c1184e26",
   "outputs": [],
   "execution_count": null
  },
  {
   "metadata": {},
   "cell_type": "code",
   "source": [
    "import warnings\n",
    "from statsmodels.tools.sm_exceptions import ConvergenceWarning\n",
    "warnings.filterwarnings(\"ignore\", category=ConvergenceWarning)"
   ],
   "id": "44c0b06b328e81f2",
   "outputs": [],
   "execution_count": null
  },
  {
   "metadata": {},
   "cell_type": "code",
   "source": [
    "# assumes you just created `fig` or plotted with plt.* in the previous cell\n",
    "import os\n",
    "os.makedirs(\"reports/figures\", exist_ok=True)\n",
    "\n",
    "plt.figure(figsize=(12,4))\n",
    "plt.plot(df_model[\"ds\"], y_all, label=\"actual\")\n",
    "plt.plot(future_index, pred.values, label=\"forecast\")\n",
    "plt.title(f\"SARIMAX {HORIZON}-day forecast\")\n",
    "plt.legend(); plt.tight_layout()\n",
    "\n",
    "plot_path = \"reports/figures/sarimax_14day_forecast.png\"\n",
    "plt.savefig(plot_path, dpi=150, bbox_inches=\"tight\")\n",
    "print(\"Saved figure ->\", plot_path)"
   ],
   "id": "fe161bd5dcf97d9",
   "outputs": [],
   "execution_count": null
  },
  {
   "metadata": {},
   "cell_type": "code",
   "source": [
    "import pandas as pd\n",
    "\n",
    "fcst_df = pd.DataFrame({\"ds\": future_index, \"forecast\": pred.values})\n",
    "os.makedirs(\"reports/tables\", exist_ok=True)\n",
    "csv_path = \"reports/tables/forecast_14day_sarimax.csv\"\n",
    "fcst_df.to_csv(csv_path, index=False)\n",
    "print(\"Saved table ->\", csv_path)"
   ],
   "id": "860252618255c985",
   "outputs": [],
   "execution_count": null
  },
  {
   "metadata": {},
   "cell_type": "code",
   "source": [
    "metrics_path = \"reports/tables/backtest_sarimax.csv\"\n",
    "bt_sarimax.to_csv(metrics_path, index=False)\n",
    "\n",
    "summary = {\n",
    "    \"folds\": int(bt_sarimax.shape[0]),\n",
    "    \"horizon_days\": int(HORIZON),\n",
    "    \"mape_mean\": float(bt_sarimax[\"MAPE\"].mean()),\n",
    "    \"mae_mean\": float(bt_sarimax[\"MAE\"].mean())\n",
    "}\n",
    "import json, pathlib\n",
    "pathlib.Path(\"reports/metrics\").mkdir(parents=True, exist_ok=True)\n",
    "with open(\"reports/metrics/sarimax_summary.json\", \"w\") as f:\n",
    "    json.dump(summary, f, indent=2)\n",
    "\n",
    "summary"
   ],
   "id": "6ba619b8764fa605",
   "outputs": [],
   "execution_count": null
  }
 ],
 "metadata": {
  "kernelspec": {
   "display_name": "Python 3",
   "language": "python",
   "name": "python3"
  },
  "language_info": {
   "codemirror_mode": {
    "name": "ipython",
    "version": 2
   },
   "file_extension": ".py",
   "mimetype": "text/x-python",
   "name": "python",
   "nbconvert_exporter": "python",
   "pygments_lexer": "ipython2",
   "version": "2.7.6"
  }
 },
 "nbformat": 4,
 "nbformat_minor": 5
}
